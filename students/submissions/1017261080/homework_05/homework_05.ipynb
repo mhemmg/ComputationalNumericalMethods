{
 "cells": [
  {
   "cell_type": "markdown",
   "metadata": {},
   "source": [
    "## This script makes a cuadratic interpolation for some data\n",
    "\n",
    "##### Mario Jose Felix Rojas author 1017261080"
   ]
  },
  {
   "cell_type": "code",
   "execution_count": 3,
   "metadata": {},
   "outputs": [],
   "source": [
    "import numpy as np\n",
    "def cuadratic_interp(x,y,xinterp):\n",
    "    #The coefficients for the approximation:\n",
    "    b_0 = y[0]\n",
    "    b_1 = ((y[1]-y[0])/(x[1]-x[0]))\n",
    "    b_2 = (((y[2]-y[1])/(x[2]-x[1]))- b_1)/(x[2]-x[0])\n",
    "    #So the interpolation gave:\n",
    "    yinterp = b_0+b_1*(xinterp-x[0])+b_2*(xinterp-x[0])*(xinterp-x[1])\n",
    "    return yinterp"
   ]
  },
  {
   "cell_type": "code",
   "execution_count": null,
   "metadata": {},
   "outputs": [],
   "source": []
  }
 ],
 "metadata": {
  "kernelspec": {
   "display_name": "Python 3",
   "language": "python",
   "name": "python3"
  },
  "language_info": {
   "codemirror_mode": {
    "name": "ipython",
    "version": 3
   },
   "file_extension": ".py",
   "mimetype": "text/x-python",
   "name": "python",
   "nbconvert_exporter": "python",
   "pygments_lexer": "ipython3",
   "version": "3.7.2"
  }
 },
 "nbformat": 4,
 "nbformat_minor": 2
}
