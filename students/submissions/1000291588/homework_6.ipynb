{
 "cells": [
  {
   "cell_type": "markdown",
   "id": "74e05b21-ffd7-493f-a536-c5da47895631",
   "metadata": {},
   "source": [
    "# Homework 6:\n",
    "\n",
    "* create notebook called: homework_6.ipynb (no spaces please)\n",
    "\n",
    "* inside write a function: `deriv(func,a,method,h)`\n",
    "`func` is a function that I can define\n",
    "`a` is a point (float) at which I wante to evaluate the derivative\n",
    "`method` is a string, and can have three options `forward`,`central`,`backward`\n",
    "`h` is a step\n",
    "\n",
    "* ***remember the function must not print anything, just return a single value***!!!\n",
    "* to choose between schemes ('central','forward'..) use `if`, `elif`"
   ]
  },
  {
   "cell_type": "code",
   "execution_count": 11,
   "id": "2f79ad5d-b95e-4df9-af90-5df14c0753b5",
   "metadata": {},
   "outputs": [],
   "source": [
    "def function(x):\n",
    "    return x**3.0"
   ]
  },
  {
   "cell_type": "code",
   "execution_count": 19,
   "id": "dc80ef72-d9da-4351-bafa-a831402c78f3",
   "metadata": {},
   "outputs": [],
   "source": [
    "def deriv(function, a, method, h):\n",
    "    if method == 'central':\n",
    "        return (function(a+h)-function(a-h))/(2*h)\n",
    "    elif method == 'forward':\n",
    "        return (function(a+h)-function(a))/h\n",
    "    elif method == 'backward':\n",
    "        return (function(a)-function(a-h))/h\n",
    "    else:\n",
    "        raise ValueError('The method is invalid')"
   ]
  }
 ],
 "metadata": {
  "kernelspec": {
   "display_name": "Python 3 (ipykernel)",
   "language": "python",
   "name": "python3"
  },
  "language_info": {
   "codemirror_mode": {
    "name": "ipython",
    "version": 3
   },
   "file_extension": ".py",
   "mimetype": "text/x-python",
   "name": "python",
   "nbconvert_exporter": "python",
   "pygments_lexer": "ipython3",
   "version": "3.8.11"
  }
 },
 "nbformat": 4,
 "nbformat_minor": 5
}
