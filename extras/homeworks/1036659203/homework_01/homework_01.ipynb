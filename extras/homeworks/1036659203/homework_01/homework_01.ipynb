{
  "cells": [
    {
      "cell_type": "markdown",
      "source": [
        "# Ejercicios sobre números"
      ],
      "metadata": {
        "cell_id": "4c37db86-aec5-4934-8eaa-f9c6e654bb4d",
        "deepnote_cell_type": "markdown",
        "deepnote_cell_height": 82.23333740234375,
        "id": "GeFdybpDpr0T"
      },
      "id": "GeFdybpDpr0T"
    },
    {
      "cell_type": "markdown",
      "source": [
        "## 1. Construya una función `celsius_fahrenheit_1(celsius)`, que reciba un valor numérico de temperatura en centígrados y devuelva una temperatura en escala Fahrenheit."
      ],
      "metadata": {
        "cell_id": "00001-57ebebb0-3397-4f6d-bfe2-6c07d32e3f46",
        "deepnote_cell_type": "markdown",
        "deepnote_cell_height": 191.4499969482422,
        "id": "CHvKATZZpr0W"
      },
      "id": "CHvKATZZpr0W"
    },
    {
      "cell_type": "markdown",
      "source": [
        "#### Por ejemplo:\n",
        "`celsius_fahrenheit_1(20.22)` tiene que devolver valor `68.396`  \n",
        "`celsius_fahrenheit_1(0)` tiene que devolver valor float `32.0` "
      ],
      "metadata": {
        "cell_id": "00002-0937d47c-762e-4ef6-b991-6dd629caef23",
        "deepnote_cell_type": "markdown",
        "deepnote_cell_height": 111.03334045410156,
        "id": "UtvN0Cr7pr0X"
      },
      "id": "UtvN0Cr7pr0X"
    },
    {
      "cell_type": "code",
      "source": [
        "celsius = float(input('ingresa los grados celsius: '))\n",
        "def celsius_fahrenheit_1(celsius):\n",
        "    return (celsius* 9/5) + 32\n",
        "\n",
        "print(celsius,' grados celsius son:', celsius_fahrenheit_1(celsius), 'Fahrenheit')\n"
      ],
      "metadata": {
        "colab": {
          "base_uri": "https://localhost:8080/"
        },
        "id": "80I43_mPVOwU",
        "outputId": "5a3707e1-d1e2-480b-d653-7bbe91eda675"
      },
      "id": "80I43_mPVOwU",
      "execution_count": null,
      "outputs": [
        {
          "output_type": "stream",
          "name": "stdout",
          "text": [
            "ingresa los grados celsius: 30\n",
            "30.0  grados celsius son: 86.0 Fahrenheit\n"
          ]
        }
      ]
    },
    {
      "cell_type": "markdown",
      "source": [
        "## 2. Modifique la función anterior para devolver `None` en caso de cualquier error e imprimir mensaje `error`."
      ],
      "metadata": {
        "cell_id": "00004-34ba2e8a-42c7-4b5c-b307-6e09a4324110",
        "deepnote_cell_type": "markdown",
        "deepnote_cell_height": 112.66667175292969,
        "id": "bgFDD-5dpr0Z"
      },
      "id": "bgFDD-5dpr0Z"
    },
    {
      "cell_type": "code",
      "metadata": {
        "cell_id": "00005-9ab529d6-4766-4bd6-84ab-837c781fdb06",
        "deepnote_cell_type": "code",
        "deepnote_cell_height": 102.23333740234375,
        "id": "N-K_2wW8pr0Z",
        "colab": {
          "base_uri": "https://localhost:8080/"
        },
        "outputId": "1bb7b3bd-bd51-4cb6-faf0-60f3069bc5eb"
      },
      "source": [
        "celsius = float(input('ingresa los grados celsius: '))\n",
        "def celsius_fahrenheit_1(celsius):\n",
        "  if (-273 <= celsius <= 200):\n",
        "    fahrenheit= float(celsius* 9/5) + 32\n",
        "    return(fahrenheit)\n",
        "  else:\n",
        "    celsius = None\n",
        "    if celsius is None:\n",
        "      print('error')\n",
        "  \n",
        "print(celsius,' grados celsius son', celsius_fahrenheit_1(celsius), 'Fahrenheit')"
      ],
      "execution_count": 35,
      "outputs": [
        {
          "output_type": "stream",
          "name": "stdout",
          "text": [
            "ingresa los grados celsius: -274\n",
            "error\n",
            "-274.0  grados celsius son None Fahrenheit\n"
          ]
        }
      ],
      "id": "N-K_2wW8pr0Z"
    },
    {
      "cell_type": "markdown",
      "source": [
        "#### Por ejemplo:\n",
        "`celsius_fahrenheit_2('hello')` tiene que devolver valor None  \n"
      ],
      "metadata": {
        "cell_id": "b4b7ae41d0814a33a4e50011629b76b1",
        "tags": [],
        "deepnote_cell_type": "markdown",
        "deepnote_cell_height": 88.63333129882812,
        "id": "GeZCmVnEpr0a"
      },
      "id": "GeZCmVnEpr0a"
    },
    {
      "cell_type": "markdown",
      "source": [
        "## 3. Construya una función `sum_odd_even(a)`, que para un número dado `a` devuelva dos valores: la suma de todos los números pares y la suma de los números impares dentro del rango de `a` (pista: usa loop `for`)\n",
        "\n",
        "(en inglés ***odd*** significa impar y ***even*** significa par)"
      ],
      "metadata": {
        "cell_id": "00006-6080f39a-a185-4447-aeff-10b250afd768",
        "deepnote_cell_type": "markdown",
        "deepnote_cell_height": 232.28334045410156,
        "id": "9kdyxXENpr0b"
      },
      "id": "9kdyxXENpr0b"
    },
    {
      "cell_type": "code",
      "metadata": {
        "cell_id": "00007-a741c27a-f1a8-4fda-ae3d-00f21cdf64ef",
        "deepnote_cell_type": "code",
        "deepnote_cell_height": 102.23333740234375,
        "id": "c6KrUSY0pr0b",
        "colab": {
          "base_uri": "https://localhost:8080/"
        },
        "outputId": "cefcfb6c-9349-46d0-db31-db25f8d7e814"
      },
      "source": [
        "#SUMA DE NÚMEROS PARES\n",
        "a= int(input('ingrese un número inicial: '))\n",
        "b= int(input('ingrese un número final: '))\n",
        "sum=0\n",
        "\n",
        "for i in range(a,b+1):\n",
        "    if i%2==0:\n",
        "      sum+=i\n",
        "print('\\nLa suma de numeros pares desde ',a, 'hasta ', b, 'es ', sum)\n",
        "  \n"
      ],
      "execution_count": 11,
      "outputs": [
        {
          "output_type": "stream",
          "name": "stdout",
          "text": [
            "ingrese un número inicial: 10\n",
            "ingrese un número final: 20\n",
            "\n",
            "La suma de numeros pares desde  10 hasta  20 es  90\n"
          ]
        }
      ],
      "id": "c6KrUSY0pr0b"
    },
    {
      "cell_type": "code",
      "source": [
        " #SUMA DE NÚMEROS IMPARES\n",
        " m =int(input('ingrese un número inicial: '))\n",
        " n =int(input('ingrese un número final: '))\n",
        " sum= 0\n",
        "\n",
        " for i in range(m, n+1):\n",
        "      if i%2==1:\n",
        "        sum=sum+i\n",
        "print('\\nLa suma de números impares desde ', m, 'hasta', n, 'es ', sum)\n"
      ],
      "metadata": {
        "id": "V2KQW2cbifQw",
        "colab": {
          "base_uri": "https://localhost:8080/"
        },
        "outputId": "08e2c4dd-ebbc-4a9e-94e9-f3d48c6def43"
      },
      "id": "V2KQW2cbifQw",
      "execution_count": 16,
      "outputs": [
        {
          "output_type": "stream",
          "name": "stdout",
          "text": [
            "ingrese un número inicial: 50 \n",
            "ingrese un número final: 61\n",
            "\n",
            "La suma de números impares desde  50 hasta 61 es  336\n"
          ]
        }
      ]
    },
    {
      "cell_type": "markdown",
      "source": [
        "#### Por ejemplo:\n",
        "`sum_odd, sum_even = sum_odd_even(10)`  tiene que devolver valores:  25,20\n"
      ],
      "metadata": {
        "cell_id": "00008-239ad8db-b728-4773-948d-f33f12bc63c8",
        "deepnote_cell_type": "markdown",
        "deepnote_cell_height": 88.63333129882812,
        "id": "q3fH2-K-pr0b"
      },
      "id": "q3fH2-K-pr0b"
    },
    {
      "cell_type": "markdown",
      "source": [
        "## 4. La función $\\frac{1}{1-x}$ se puede aproximar con la siguiente suma:"
      ],
      "metadata": {
        "cell_id": "00009-fc6dc5c7-0ae9-43a1-af16-43ecf7c066be",
        "deepnote_cell_type": "markdown",
        "deepnote_cell_height": 118.36666870117188,
        "id": "M1tK1wtGpr0c"
      },
      "id": "M1tK1wtGpr0c"
    },
    {
      "cell_type": "markdown",
      "source": [
        "$$\\frac{1}{1-x}=\\sum_{k=0}^{\\infty}x^k$$ "
      ],
      "metadata": {
        "cell_id": "00010-3e75fe53-0c95-4bbf-b4ed-18bd75570b66",
        "deepnote_cell_type": "markdown",
        "deepnote_cell_height": 53.850006103515625,
        "id": "kFGJOj5apr0c"
      },
      "id": "kFGJOj5apr0c"
    },
    {
      "cell_type": "markdown",
      "source": [
        "Donde 'k' es el número de los términos de la suma, responsable de cuán buena será la aproximación, si k=2 la aproximación es peor que si k=5..."
      ],
      "metadata": {
        "cell_id": "87f4faf84c52461392876ea81a2fd01f",
        "tags": [],
        "deepnote_cell_type": "markdown",
        "deepnote_cell_height": 75.03334045410156,
        "id": "HwSiaiZNpr0c"
      },
      "id": "HwSiaiZNpr0c"
    },
    {
      "cell_type": "markdown",
      "source": [
        "Construya una función `div_x(x,k)` que acepte dos parámetros `x` y `k` y devuelva valor de aproximación de función $\\frac{1}{1-x}$."
      ],
      "metadata": {
        "cell_id": "00011-159088e1-44d7-44b3-af19-10edf3bd38f4",
        "deepnote_cell_type": "markdown",
        "deepnote_cell_height": 76.25,
        "id": "HfeM1nrUpr0d"
      },
      "id": "HfeM1nrUpr0d"
    },
    {
      "cell_type": "code",
      "metadata": {
        "cell_id": "00012-85747cf0-c5cb-4869-a846-fd013fe00d07",
        "deepnote_cell_type": "code",
        "deepnote_cell_height": 102.23333740234375,
        "id": "xlvYj0uqpr0d"
      },
      "source": [
        "\n",
        "def div_x(x,k):\n",
        "   sum=0\n",
        "   for i in range(k):\n",
        "      sum += float(x**i)\n",
        "   return sum\n",
        "\n",
        "def func_x(x):\n",
        "  funcx = 1/(1-x)\n",
        "  return funcx"
      ],
      "execution_count": 29,
      "outputs": [],
      "id": "xlvYj0uqpr0d"
    },
    {
      "cell_type": "code",
      "source": [
        "func_x(0.2)"
      ],
      "metadata": {
        "colab": {
          "base_uri": "https://localhost:8080/"
        },
        "id": "9SyMRILYHe_z",
        "outputId": "5447369e-134e-45ca-b32e-ce06c5f0dceb"
      },
      "id": "9SyMRILYHe_z",
      "execution_count": 31,
      "outputs": [
        {
          "output_type": "execute_result",
          "data": {
            "text/plain": [
              "1.25"
            ]
          },
          "metadata": {},
          "execution_count": 31
        }
      ]
    },
    {
      "cell_type": "markdown",
      "source": [
        ""
      ],
      "metadata": {
        "id": "fahU6eelmq1H"
      },
      "id": "fahU6eelmq1H"
    },
    {
      "cell_type": "markdown",
      "source": [
        "###### Por ejemplo:\n",
        "`div_x_approx = div_x(0.2,2)` devuelve: `1.2`  \n",
        "`div_x_approx = div_x(0.2,10)` devuelve: `1.249999872`\n",
        "\n",
        "Puede comparar su aproximación con resultados de operación directa: $\\frac{1}{1-x}$\n",
        "\n",
        "*Esta aproximación con suma se llama Taylor expansion."
      ],
      "metadata": {
        "cell_id": "00013-8190d2be-960d-42c8-a233-1fb81f40732f",
        "deepnote_cell_type": "markdown",
        "deepnote_cell_height": 171.4499969482422,
        "id": "6brYX2htpr0d"
      },
      "id": "6brYX2htpr0d"
    },
    {
      "cell_type": "markdown",
      "source": [
        "# Ejercicios opcionales:"
      ],
      "metadata": {
        "cell_id": "3a1646ebf7ca484e946d426b2d1c5798",
        "tags": [],
        "deepnote_cell_type": "markdown",
        "deepnote_cell_height": 82.23333740234375,
        "id": "5udo2fDepr0e"
      },
      "id": "5udo2fDepr0e"
    },
    {
      "cell_type": "markdown",
      "source": [
        "## 5. Reto: Usando doble `for` y `range()` imprima la siguiente pirámide:"
      ],
      "metadata": {
        "cell_id": "134e6ea51f4d4d0fae28d3a9bad4812c",
        "tags": [],
        "deepnote_cell_type": "markdown",
        "deepnote_cell_height": 111.44999694824219,
        "id": "oVZXsEH-pr0e"
      },
      "id": "oVZXsEH-pr0e"
    },
    {
      "cell_type": "code",
      "source": [
        "high= 11\n",
        "for fil in range(0,high):\n",
        "  for col in range(0,fil):\n",
        "    print(col, end=' ')\n",
        "  print()"
      ],
      "metadata": {
        "colab": {
          "base_uri": "https://localhost:8080/"
        },
        "id": "H8msLzdOUc40",
        "outputId": "86e3cfce-80b4-4fa8-ab7a-bd299c6ea6df"
      },
      "id": "H8msLzdOUc40",
      "execution_count": 38,
      "outputs": [
        {
          "output_type": "stream",
          "name": "stdout",
          "text": [
            "\n",
            "0 \n",
            "0 1 \n",
            "0 1 2 \n",
            "0 1 2 3 \n",
            "0 1 2 3 4 \n",
            "0 1 2 3 4 5 \n",
            "0 1 2 3 4 5 6 \n",
            "0 1 2 3 4 5 6 7 \n",
            "0 1 2 3 4 5 6 7 8 \n",
            "0 1 2 3 4 5 6 7 8 9 \n"
          ]
        }
      ]
    },
    {
      "cell_type": "markdown",
      "source": [
        "```\n",
        "0 \n",
        "0 1 \n",
        "0 1 2 \n",
        "0 1 2 3 \n",
        "0 1 2 3 4 \n",
        "0 1 2 3 4 5 \n",
        "0 1 2 3 4 5 6 \n",
        "0 1 2 3 4 5 6 7 \n",
        "0 1 2 3 4 5 6 7 8 \n",
        "0 1 2 3 4 5 6 7 8 9\n",
        "```"
      ],
      "metadata": {
        "cell_id": "700f47463a4044e6b6ec90bc56660213",
        "tags": [],
        "deepnote_cell_type": "markdown",
        "deepnote_cell_height": 258.23333740234375,
        "id": "cfqetbfgpr0f"
      },
      "id": "cfqetbfgpr0f"
    },
    {
      "cell_type": "markdown",
      "source": [
        "## 6. Reto: Usando doble `for` y `range()` imprima la siguiente pirámide:"
      ],
      "metadata": {
        "cell_id": "0833aea759f7401294f07b442e9a388b",
        "tags": [],
        "deepnote_cell_type": "markdown",
        "deepnote_cell_height": 111.44999694824219,
        "id": "oowjkjxypr0f"
      },
      "id": "oowjkjxypr0f"
    },
    {
      "cell_type": "code",
      "source": [
        "high= 11\n",
        "for fil in range(high,0):\n",
        "  for col in range(fil,0):\n",
        "    print(col, end=' ')\n",
        "  print()"
      ],
      "metadata": {
        "id": "E4l2kZWpWU23"
      },
      "id": "E4l2kZWpWU23",
      "execution_count": 40,
      "outputs": []
    },
    {
      "cell_type": "markdown",
      "source": [
        "```\n",
        "9 8 7 6 5 4 3 2 1 0 \n",
        "8 7 6 5 4 3 2 1 0 \n",
        "7 6 5 4 3 2 1 0 \n",
        "6 5 4 3 2 1 0 \n",
        "5 4 3 2 1 0 \n",
        "4 3 2 1 0 \n",
        "3 2 1 0 \n",
        "2 1 0 \n",
        "1 0 \n",
        "0 \n",
        "\n",
        "```"
      ],
      "metadata": {
        "cell_id": "b089110cc92d40cda8594ebdf0351d70",
        "tags": [],
        "deepnote_cell_type": "markdown",
        "deepnote_cell_height": 258.23333740234375,
        "id": "AABtocFapr0f"
      },
      "id": "AABtocFapr0f"
    },
    {
      "cell_type": "markdown",
      "source": [
        "Revisado 3/5/2022 por Luisa Gómez (correctora de estilo)"
      ],
      "metadata": {
        "cell_id": "2f5f90e7d771411fa8cd2d031d340946",
        "tags": [],
        "deepnote_cell_type": "markdown",
        "deepnote_cell_height": 52.633331298828125,
        "id": "R-Onec4npr0g"
      },
      "id": "R-Onec4npr0g"
    },
    {
      "cell_type": "markdown",
      "source": [
        ""
      ],
      "metadata": {
        "cell_id": "4228c8ff6ca84a95816e6863d17f196a",
        "tags": [],
        "deepnote_cell_type": "markdown",
        "deepnote_cell_height": 46.23333740234375,
        "id": "PNt6s4YXpr0g"
      },
      "id": "PNt6s4YXpr0g"
    },
    {
      "cell_type": "markdown",
      "source": [
        "<a style='text-decoration:none;line-height:16px;display:flex;color:#5B5B62;padding:10px;justify-content:end;' href='https://deepnote.com?utm_source=created-in-deepnote-cell&projectId=4710cf8b-f7ec-43d1-a3bc-46d860c0e6af' target=\"_blank\">\n",
        "<img alt='Created in deepnote.com' style='display:inline;max-height:16px;margin:0px;margin-right:7.5px;' src='data:image/svg+xml;base64,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' > </img>\n",
        "Created in <span style='font-weight:600;margin-left:4px;'>Deepnote</span></a>"
      ],
      "metadata": {
        "tags": [],
        "created_in_deepnote_cell": true,
        "deepnote_cell_type": "markdown",
        "id": "kOXX3o3Tpr0g"
      },
      "id": "kOXX3o3Tpr0g"
    }
  ],
  "nbformat": 4,
  "nbformat_minor": 5,
  "metadata": {
    "kernelspec": {
      "display_name": "Python 3",
      "language": "python",
      "name": "python3"
    },
    "language_info": {
      "codemirror_mode": {
        "name": "ipython",
        "version": 3
      },
      "file_extension": ".py",
      "mimetype": "text/x-python",
      "name": "python",
      "nbconvert_exporter": "python",
      "pygments_lexer": "ipython3",
      "version": "3.7.2"
    },
    "deepnote_notebook_id": "5dbfb4f9-e556-4c71-a68e-2f6bbfa88f9e",
    "deepnote": {},
    "deepnote_execution_queue": [],
    "colab": {
      "name": "homework_01.ipynb",
      "provenance": []
    }
  }
}